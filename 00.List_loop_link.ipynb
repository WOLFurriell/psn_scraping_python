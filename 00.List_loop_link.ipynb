{
 "cells": [
  {
   "cell_type": "code",
   "execution_count": 1,
   "metadata": {},
   "outputs": [],
   "source": [
    "import requests\n",
    "import pandas as pd\n",
    "import numpy  as np\n",
    "import re\n",
    "\n",
    "from bs4 import BeautifulSoup"
   ]
  },
  {
   "cell_type": "markdown",
   "metadata": {},
   "source": [
    " <hr style=\"height:2px;border-width:0;color:gray;background-color:gray\"> \n",
    "\n",
    " <p style = \"text-align:center;color:gray;font-size:30px\">Extraindo a lista de links</p>\n",
    "\n",
    " <hr style=\"height:2px;border-width:0;color:gray;background-color:gray\"> "
   ]
  },
  {
   "cell_type": "code",
   "execution_count": 2,
   "metadata": {},
   "outputs": [
    {
     "name": "stdout",
     "output_type": "stream",
     "text": [
      "https://psprices.com/region-br/games/?sort=subscribers&platform=PS4&page=1\n",
      "-------------------------------------------------------------------------------------------\n",
      "https://psprices.com/region-br/games/?sort=subscribers&platform=PS4&page=2\n",
      "-------------------------------------------------------------------------------------------\n",
      "https://psprices.com/region-br/games/?sort=subscribers&platform=PS4&page=3\n",
      "-------------------------------------------------------------------------------------------\n",
      "https://psprices.com/region-br/games/?sort=subscribers&platform=PS4&page=4\n",
      "-------------------------------------------------------------------------------------------\n",
      "https://psprices.com/region-br/games/?sort=subscribers&platform=PS4&page=5\n",
      "-------------------------------------------------------------------------------------------\n",
      "https://psprices.com/region-br/games/?sort=subscribers&platform=PS4&page=6\n",
      "-------------------------------------------------------------------------------------------\n",
      "https://psprices.com/region-br/games/?sort=subscribers&platform=PS4&page=7\n",
      "-------------------------------------------------------------------------------------------\n",
      "https://psprices.com/region-br/games/?sort=subscribers&platform=PS4&page=8\n",
      "-------------------------------------------------------------------------------------------\n",
      "https://psprices.com/region-br/games/?sort=subscribers&platform=PS4&page=9\n",
      "-------------------------------------------------------------------------------------------\n",
      "https://psprices.com/region-br/games/?sort=subscribers&platform=PS4&page=10\n",
      "-------------------------------------------------------------------------------------------\n",
      "https://psprices.com/region-br/games/?sort=subscribers&platform=PS4&page=11\n",
      "-------------------------------------------------------------------------------------------\n",
      "https://psprices.com/region-br/games/?sort=subscribers&platform=PS4&page=12\n",
      "-------------------------------------------------------------------------------------------\n",
      "https://psprices.com/region-br/games/?sort=subscribers&platform=PS4&page=13\n",
      "-------------------------------------------------------------------------------------------\n",
      "https://psprices.com/region-br/games/?sort=subscribers&platform=PS4&page=14\n",
      "-------------------------------------------------------------------------------------------\n",
      "https://psprices.com/region-br/games/?sort=subscribers&platform=PS4&page=15\n",
      "-------------------------------------------------------------------------------------------\n",
      "https://psprices.com/region-br/games/?sort=subscribers&platform=PS4&page=16\n",
      "-------------------------------------------------------------------------------------------\n",
      "https://psprices.com/region-br/games/?sort=subscribers&platform=PS4&page=17\n",
      "-------------------------------------------------------------------------------------------\n",
      "https://psprices.com/region-br/games/?sort=subscribers&platform=PS4&page=18\n",
      "-------------------------------------------------------------------------------------------\n",
      "https://psprices.com/region-br/games/?sort=subscribers&platform=PS4&page=19\n",
      "-------------------------------------------------------------------------------------------\n",
      "https://psprices.com/region-br/games/?sort=subscribers&platform=PS4&page=20\n",
      "-------------------------------------------------------------------------------------------\n",
      "https://psprices.com/region-br/games/?sort=subscribers&platform=PS4&page=21\n",
      "-------------------------------------------------------------------------------------------\n",
      "https://psprices.com/region-br/games/?sort=subscribers&platform=PS4&page=22\n",
      "-------------------------------------------------------------------------------------------\n",
      "https://psprices.com/region-br/games/?sort=subscribers&platform=PS4&page=23\n",
      "-------------------------------------------------------------------------------------------\n",
      "https://psprices.com/region-br/games/?sort=subscribers&platform=PS4&page=24\n",
      "-------------------------------------------------------------------------------------------\n",
      "https://psprices.com/region-br/games/?sort=subscribers&platform=PS4&page=25\n",
      "-------------------------------------------------------------------------------------------\n",
      "https://psprices.com/region-br/games/?sort=subscribers&platform=PS4&page=26\n",
      "-------------------------------------------------------------------------------------------\n",
      "https://psprices.com/region-br/games/?sort=subscribers&platform=PS4&page=27\n",
      "-------------------------------------------------------------------------------------------\n",
      "https://psprices.com/region-br/games/?sort=subscribers&platform=PS4&page=28\n",
      "-------------------------------------------------------------------------------------------\n",
      "https://psprices.com/region-br/games/?sort=subscribers&platform=PS4&page=29\n",
      "-------------------------------------------------------------------------------------------\n"
     ]
    }
   ],
   "source": [
    "links = []\n",
    "for i in range(1,30):\n",
    "    url = \"https://psprices.com/region-br/games/?sort=subscribers&platform=PS4&page=\"+str(i)\n",
    "    print(url)\n",
    "    print(\"-------------------------------------------------------------------------------------------\")\n",
    "    # -------------------------------------------------------------------------------------------\n",
    "    # Criando um objeto com o link de interesse \n",
    "    url_obj = requests.get(url)\n",
    "    # Extraindo o código fonte do link \n",
    "    data = url_obj.text\n",
    "    # lxml - processar XML eHTML com Python \n",
    "    soup = BeautifulSoup(data, \"lxml\")\n",
    "    # Extraindo todas as tags com <a> \n",
    "    tags = soup.find_all(\"a\")\n",
    "    # Criando uma lista vazia \n",
    "    \n",
    "    # -------------------------------------------------------------------------------------------\n",
    "    # Extraindo URLs das tags com href em <a> \n",
    "    for tag in tags:\n",
    "        \n",
    "        # Apendando o prefixo no link\n",
    "        aux = \"https://psprices.com\"+str(tag.get(\"href\"))\n",
    "        # Cria um vetor com os links \n",
    "        links.append(aux)"
   ]
  },
  {
   "cell_type": "code",
   "execution_count": 3,
   "metadata": {},
   "outputs": [
    {
     "data": {
      "text/plain": [
       "0       https://psprices.com/region-br/game/3200971/ma...\n",
       "1       https://psprices.com/region-br/game/2439074/se...\n",
       "2       https://psprices.com/region-br/game/2355781/re...\n",
       "3       https://psprices.com/region-br/game/1374501/he...\n",
       "4       https://psprices.com/region-br/game/1839351/ho...\n",
       "                              ...                        \n",
       "1039    https://psprices.com/region-br/game/103092/swo...\n",
       "1040    https://psprices.com/region-br/game/31133/flow...\n",
       "1041    https://psprices.com/region-br/game/2416495/st...\n",
       "1042    https://psprices.com/region-br/game/997773/aca...\n",
       "1043     https://psprices.com/region-br/game/1236724/kona\n",
       "Name: 0, Length: 1043, dtype: object"
      ]
     },
     "execution_count": 3,
     "metadata": {},
     "output_type": "execute_result"
    }
   ],
   "source": [
    "# Selecionando só os links com o mesmo começo\n",
    "links2 = list(filter(lambda x: x.lower().startswith(\"https://psprices.com/region-br/game/\"), links))\n",
    "links_aux = pd.DataFrame(links2)\n",
    "# Retirando links invalidos\n",
    "links_fim  = pd.DataFrame(links_aux[~(links_aux == \"https://psprices.comNone\")])\n",
    "links_fim2 = pd.DataFrame(links_fim[~(links_fim == \"https://psprices.com/region-br/game/1863959/ps-plus-12-month-membership\")])   \n",
    "links_fim2 = pd.DataFrame(links_fim2[~(links_fim2 == \"https://psprices.com/region-br/game/1863963/ps-plus-3-month-membership\")])   \n",
    "links_fim2 = pd.DataFrame(links_fim2[~(links_fim2 == \"https://psprices.com/region-br/game/1863960/ps-plus-1-month-membership\")])   \n",
    "links_fim2 = pd.DataFrame(links_fim2[~(links_fim2 == \"https://psprices.com/region-br/game/1852967/mass-effect-andromeda-edicao-de-recruta-deluxe\")])   \n",
    "\n",
    "\n",
    "links_fim2 = links_fim2.dropna()\n",
    "# Primeira coluna todas as linhas\n",
    "links_fim2.iloc[:,0]"
   ]
  },
  {
   "cell_type": "markdown",
   "metadata": {},
   "source": [
    " <hr style=\"height:2px;border-width:0;color:gray;background-color:gray\"> \n",
    "\n",
    " <p style = \"text-align:center;color:gray;font-size:30px\">Extraindo as informações dos games</p>\n",
    "\n",
    " <hr style=\"height:2px;border-width:0;color:gray;background-color:gray\"> "
   ]
  },
  {
   "cell_type": "code",
   "execution_count": 4,
   "metadata": {},
   "outputs": [],
   "source": [
    "# Função para limpeza das variáveis\n",
    "def tratvarsite(var_site):  \n",
    "# --------------------------------------------------    \n",
    "    # removendo os characteres \n",
    "    var_site = re.sub(\"[^0-9]\", \"\", var_site)\n",
    "# --------------------------------------------------\n",
    "    if len(var_site) < 5: \n",
    "        # concatenando o 0\n",
    "        var_site = \"0\"+var_site\n",
    "        # Atribuindo .\n",
    "        var_site2 = var_site[:3]+\".\"+var_site[3:]\n",
    "        return var_site2\n",
    "# --------------------------------------------------\n",
    "    elif len(var_site) > 2: \n",
    "        var_site2 = var_site[:3]+\".\"+var_site[3] \n",
    "        return var_site2\n",
    "# --------------------------------------------------\n",
    "    else:\n",
    "        var_site2 = var_site \n",
    "        return var_site2\n"
   ]
  },
  {
   "cell_type": "code",
   "execution_count": 5,
   "metadata": {},
   "outputs": [
    {
     "name": "stdout",
     "output_type": "stream",
     "text": [
      "0,Nome do game:      Marvel's Spider-Man: Game Of The Year Edition\n",
      "1,Nome do game:      Sekiro: Shadows Die Twice\n",
      "2,Nome do game:      Red Dead Redemption 2\n",
      "3,Nome do game:      Hellblade: Senua's Sacrifice\n",
      "4,Nome do game:      Horizon Zero Dawn: Complete Edition\n",
      "5,Nome do game:      Final Fantasy VII Remake\n",
      "6,Nome do game:      Star Wars Jedi: Fallen Order\n",
      "7,Nome do game:      Crash Bandicoot N. Sane Trilogy\n",
      "8,Nome do game:      God Of War\n",
      "9,Nome do game:      The Last Guardian\n",
      "10,Nome do game:      Uncharted: The Lost Legacy\n",
      "11,Nome do game:      Shadow Of The Tomb Raider Definitive Edition\n",
      "12,Nome do game:      v class=\"content__game__title d-block my-0\">\n",
      "<h1 class=\"mb-0\">Nier: Automata Game Of The Yorha Edition\n",
      "13,Nome do game:      Death Stranding\n",
      "14,Nome do game:      Resident Evil 2\n",
      "15,Nome do game:      Days Gone\n",
      "16,Nome do game:      Shadow Of The Colossus\n",
      "17,Nome do game:      Uncharted 4: A Thief's End\n",
      "18,Nome do game:      Cyberpunk 2077\n"
     ]
    },
    {
     "ename": "IndexError",
     "evalue": "list index out of range",
     "output_type": "error",
     "traceback": [
      "\u001b[1;31m---------------------------------------------------------------------------\u001b[0m",
      "\u001b[1;31mIndexError\u001b[0m                                Traceback (most recent call last)",
      "\u001b[1;32m<ipython-input-5-7765d1b69f26>\u001b[0m in \u001b[0;36m<module>\u001b[1;34m\u001b[0m\n\u001b[0;32m     30\u001b[0m     \u001b[0mpreco_PSPlus\u001b[0m \u001b[1;33m=\u001b[0m \u001b[0mpreco_menor2\u001b[0m\u001b[1;33m.\u001b[0m\u001b[0mrsplit\u001b[0m\u001b[1;33m(\u001b[0m\u001b[1;34m\"PS+:\"\u001b[0m\u001b[1;33m,\u001b[0m \u001b[1;36m1\u001b[0m\u001b[1;33m)\u001b[0m\u001b[1;33m[\u001b[0m\u001b[1;36m1\u001b[0m\u001b[1;33m]\u001b[0m\u001b[1;33m\u001b[0m\u001b[1;33m\u001b[0m\u001b[0m\n\u001b[0;32m     31\u001b[0m     \u001b[0mpreco_menor3\u001b[0m \u001b[1;33m=\u001b[0m \u001b[0mpreco_menor2\u001b[0m\u001b[1;33m.\u001b[0m\u001b[0mrsplit\u001b[0m\u001b[1;33m(\u001b[0m\u001b[1;34m\"PS+:\"\u001b[0m\u001b[1;33m,\u001b[0m \u001b[1;36m1\u001b[0m\u001b[1;33m)\u001b[0m\u001b[1;33m[\u001b[0m\u001b[1;36m0\u001b[0m\u001b[1;33m]\u001b[0m\u001b[1;33m\u001b[0m\u001b[1;33m\u001b[0m\u001b[0m\n\u001b[1;32m---> 32\u001b[1;33m     \u001b[0mdata_lanc\u001b[0m    \u001b[1;33m=\u001b[0m \u001b[0mpreco_menor\u001b[0m\u001b[1;33m.\u001b[0m\u001b[0mrsplit\u001b[0m\u001b[1;33m(\u001b[0m\u001b[1;34m\"Release date:\"\u001b[0m\u001b[1;33m,\u001b[0m \u001b[1;36m1\u001b[0m\u001b[1;33m)\u001b[0m\u001b[1;33m[\u001b[0m\u001b[1;36m1\u001b[0m\u001b[1;33m]\u001b[0m\u001b[1;33m\u001b[0m\u001b[1;33m\u001b[0m\u001b[0m\n\u001b[0m\u001b[0;32m     33\u001b[0m \u001b[1;33m\u001b[0m\u001b[0m\n\u001b[0;32m     34\u001b[0m     \u001b[1;31m# -------------------------------------------------------------------------------------\u001b[0m\u001b[1;33m\u001b[0m\u001b[1;33m\u001b[0m\u001b[1;33m\u001b[0m\u001b[0m\n",
      "\u001b[1;31mIndexError\u001b[0m: list index out of range"
     ]
    }
   ],
   "source": [
    "# Criando um dataframe vazio\n",
    "df = pd.DataFrame(columns = [\"nome\", \"preco_orig\", \"preco_atual\",\"nota\",\"psn\",\"menor_preco\",\"data\",\"dlc\",\"desc\"])\n",
    "n = 0\n",
    "\n",
    "# Loop para extrair as informações do site https://psprices.com/\n",
    "for links_ in links_fim2.iloc[:,0]:\n",
    "    # URL de interesse -----------------------\n",
    "    url    = str(links_)\n",
    "    r      = requests.get(url)\n",
    "    pagina = BeautifulSoup(r.text,\"lxml\")\n",
    "    # Remover tags html ---------------\n",
    "    cleanr = re.compile(\"<.*?>\")\n",
    "\n",
    "    # Extração das informações -----------------------------------------------------------\n",
    "    nome  = str(pagina.find_all(class_ = \"content__game__title\"))\n",
    "    dlc   = str(pagina.find_all(class_ = \"badge badge-secondary\"))\n",
    "    dlc2  = re.sub(\"[^0-9]\", \"\", dlc)\n",
    "    desc  = re.sub(cleanr,\"\", str(pagina.find_all(class_ = \"content__game__long_desc\")))\n",
    "    # find_all utilizado para encontrar a tag\n",
    "    # Transformando em character e removendo os characteres especiais .\n",
    "    preco_orig  = re.sub(cleanr,\"\", str(pagina.find_all(class_ = \"old_price\")))\n",
    "    # rsplit(separator, maxsplit)\n",
    "    preco_orig  = preco_orig.rsplit(\", \", 100)[0]\n",
    "    preco_atual = re.sub(cleanr,\"\", str(pagina.find_all(class_ = \"current\"))) \n",
    "    score       = re.sub(cleanr,\"\", str(pagina.find_all(class_ = \"scores__opencritic\")))\n",
    "    preco_menor = str(pagina.find_all(class_ = \"text-secondary\"))\n",
    "\n",
    "    # -------------------------------------------------------------------------------------\n",
    "    preco_menor2 = preco_menor.rsplit(\"— Release date:\", 1)[0]\n",
    "    preco_PSPlus = preco_menor2.rsplit(\"PS+:\", 1)[1]\n",
    "    preco_menor3 = preco_menor2.rsplit(\"PS+:\", 1)[0]\n",
    "    data_lanc    = preco_menor.rsplit(\"Release date:\", 1)[1]\n",
    "\n",
    "    # -------------------------------------------------------------------------------------\n",
    "    # Pegando informação entre dois chatacter Data\n",
    "    start      = data_lanc.find(\"\\n              <strong>\") + len(\"\\n              <strong>\")\n",
    "    end        = data_lanc.find(\"</strong>\\n</div>]\")\n",
    "    data_lanc2 = data_lanc[start:end]\n",
    "    # Pegando informação entre dois chatacter Nome\n",
    "    start1      = nome.find(\"\\n<h1>\") + len(\"\\n<h1>\")\n",
    "    end1        = nome.find(\"</h1>\")\n",
    "    nome2 = nome[start1:end1]\n",
    "\n",
    "    # -------------------------------------------------------------------------------------\n",
    "    # Chamando as funções\n",
    "    preco_orig2   = tratvarsite(preco_orig)\n",
    "    preco_atual2  = tratvarsite(preco_atual)\n",
    "\n",
    "    preco_PSPlus2 = tratvarsite(preco_PSPlus)\n",
    "    preco_menor32 = tratvarsite(preco_menor3)\n",
    "\n",
    "    # -------------------------------------------------------------------------------------\n",
    "    # Guardando as informações em um dataframe\n",
    "    df.loc[n] = [nome2, preco_orig2, preco_atual2, score, preco_PSPlus2, preco_menor32, data_lanc2, dlc2, desc]\n",
    "    print(n, end = \",\")\n",
    "    print(\"Nome do game:     \", nome2)\n",
    "    n = n + 1"
   ]
  },
  {
   "cell_type": "code",
   "execution_count": null,
   "metadata": {},
   "outputs": [],
   "source": [
    "df.to_csv(r\"E:/Projeto_Python/Bases/dfgames_preco3.csv\", header=True, sep = \";\",index = False)"
   ]
  },
  {
   "cell_type": "code",
   "execution_count": null,
   "metadata": {},
   "outputs": [],
   "source": [
    "links_fim2.iloc[1102,0]"
   ]
  }
 ],
 "metadata": {
  "kernelspec": {
   "display_name": "Python 3",
   "language": "python",
   "name": "python3"
  },
  "language_info": {
   "codemirror_mode": {
    "name": "ipython",
    "version": 3
   },
   "file_extension": ".py",
   "mimetype": "text/x-python",
   "name": "python",
   "nbconvert_exporter": "python",
   "pygments_lexer": "ipython3",
   "version": "3.7.6"
  }
 },
 "nbformat": 4,
 "nbformat_minor": 4
}
